{
  "nbformat": 4,
  "nbformat_minor": 0,
  "metadata": {
    "colab": {
      "provenance": [],
      "authorship_tag": "ABX9TyPb4Xpz57qTOadgJ7+BaGkq",
      "include_colab_link": true
    },
    "kernelspec": {
      "name": "python3",
      "display_name": "Python 3"
    },
    "language_info": {
      "name": "python"
    }
  },
  "cells": [
    {
      "cell_type": "markdown",
      "metadata": {
        "id": "view-in-github",
        "colab_type": "text"
      },
      "source": [
        "<a href=\"https://colab.research.google.com/github/mrleangreen/Team1_Calculator/blob/jonathan/squareroot.ipynb\" target=\"_parent\"><img src=\"https://colab.research.google.com/assets/colab-badge.svg\" alt=\"Open In Colab\"/></a>"
      ]
    },
    {
      "cell_type": "code",
      "execution_count": 1,
      "metadata": {
        "colab": {
          "base_uri": "https://localhost:8080/"
        },
        "id": "xQwBQ_RAorMR",
        "outputId": "441d59a7-b2a6-48cf-b6e0-d8552412512c"
      },
      "outputs": [
        {
          "output_type": "stream",
          "name": "stdout",
          "text": [
            "Enter a number: 2\n",
            "Square root of 2.0 is 1.4142135623730951\n"
          ]
        }
      ],
      "source": [
        "import math\n",
        "\n",
        "def main():\n",
        "    # Take input from the user\n",
        "    num = float(input(\"Enter a number: \"))\n",
        "\n",
        "    # Calculate the square root\n",
        "    square_root = math.sqrt(num)\n",
        "\n",
        "    # Print the result\n",
        "    print(\"Square root of\", num, \"is\", square_root)\n",
        "\n",
        "if __name__ == \"__main__\":\n",
        "    main()\n"
      ]
    }
  ]
}