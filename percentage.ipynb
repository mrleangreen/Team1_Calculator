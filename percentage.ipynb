{
  "nbformat": 4,
  "nbformat_minor": 0,
  "metadata": {
    "colab": {
      "provenance": [],
      "authorship_tag": "ABX9TyPYsgHoJoV5+9s89AOT+SoZ",
      "include_colab_link": true
    },
    "kernelspec": {
      "name": "python3",
      "display_name": "Python 3"
    },
    "language_info": {
      "name": "python"
    }
  },
  "cells": [
    {
      "cell_type": "markdown",
      "metadata": {
        "id": "view-in-github",
        "colab_type": "text"
      },
      "source": [
        "<a href=\"https://colab.research.google.com/github/mrleangreen/Team1_Calculator/blob/jonathan/percentage.ipynb\" target=\"_parent\"><img src=\"https://colab.research.google.com/assets/colab-badge.svg\" alt=\"Open In Colab\"/></a>"
      ]
    },
    {
      "cell_type": "code",
      "execution_count": 1,
      "metadata": {
        "colab": {
          "base_uri": "https://localhost:8080/"
        },
        "id": "XAIZFW1JqNkX",
        "outputId": "366abc2d-b601-4729-e92f-dfe4e384bc56"
      },
      "outputs": [
        {
          "output_type": "stream",
          "name": "stdout",
          "text": [
            "Enter the value: 50\n",
            "Enter the total: 5\n",
            "The percentage is: 1000.0 %\n"
          ]
        }
      ],
      "source": [
        "def calculate_percentage(value, total):\n",
        "    \"\"\"\n",
        "    Calculate the percentage of a value out of a total.\n",
        "\n",
        "    Args:\n",
        "        value (float): The value for which percentage is to be calculated.\n",
        "        total (float): The total value.\n",
        "\n",
        "    Returns:\n",
        "        float: The percentage value.\n",
        "    \"\"\"\n",
        "    percentage = (value / total) * 100\n",
        "    return percentage\n",
        "\n",
        "def main():\n",
        "    # Take input for value and total\n",
        "    value = float(input(\"Enter the value: \"))\n",
        "    total = float(input(\"Enter the total: \"))\n",
        "\n",
        "    # Calculate percentage\n",
        "    percentage = calculate_percentage(value, total)\n",
        "\n",
        "    # Print the result\n",
        "    print(\"The percentage is:\", percentage, \"%\")\n",
        "\n",
        "if __name__ == \"__main__\":\n",
        "    main()\n"
      ]
    }
  ]
}