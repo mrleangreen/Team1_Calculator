{
  "nbformat": 4,
  "nbformat_minor": 0,
  "metadata": {
    "colab": {
      "provenance": [],
      "authorship_tag": "ABX9TyPgpIUBDMATLdjhFGZKuUnU",
      "include_colab_link": true
    },
    "kernelspec": {
      "name": "python3",
      "display_name": "Python 3"
    },
    "language_info": {
      "name": "python"
    }
  },
  "cells": [
    {
      "cell_type": "markdown",
      "metadata": {
        "id": "view-in-github",
        "colab_type": "text"
      },
      "source": [
        "<a href=\"https://colab.research.google.com/github/mrleangreen/Team1_Calculator/blob/jonathan/syntaxerror.ipynb\" target=\"_parent\"><img src=\"https://colab.research.google.com/assets/colab-badge.svg\" alt=\"Open In Colab\"/></a>"
      ]
    },
    {
      "cell_type": "code",
      "execution_count": 2,
      "metadata": {
        "colab": {
          "base_uri": "https://localhost:8080/"
        },
        "id": "TaSmWPCPv9py",
        "outputId": "d189d332-5f28-4941-f7a6-889459e7a978"
      },
      "outputs": [
        {
          "output_type": "stream",
          "name": "stdout",
          "text": [
            "Enter an expression to calculate: -20/5-\n",
            "Result: Syntax Error: Invalid expression\n"
          ]
        }
      ],
      "source": [
        "def calculate(expression):\n",
        "    try:\n",
        "        result = eval(expression)\n",
        "        return result\n",
        "    except SyntaxError:\n",
        "        return \"Syntax Error: Invalid expression\"\n",
        "\n",
        "\n",
        "def main():\n",
        "    expression = input(\"Enter an expression to calculate: \")\n",
        "    result = calculate(expression)\n",
        "    print(\"Result:\", result)\n",
        "if __name__ == \"__main__\":\n",
        "    main()"
      ]
    }
  ]
}